{
 "cells": [
  {
   "cell_type": "code",
   "execution_count": 7,
   "metadata": {},
   "outputs": [],
   "source": [
    "import numpy as np\n",
    "\n",
    "POLYNOMIALS = {\n",
    "    'constant':{'default_coefficients':(1,0,0,0), 'general_form':'f(x) = a'},\n",
    "    'linear':{'default_coefficients':(0,1,0,0), 'general_form':'f(x) = ax + b'},\n",
    "    'quadratic':{'default_coefficients':(0,0,1,0), 'general_form':'f(x) = ax^2 + bx + c'},\n",
    "    'cubic':{'default_coefficients':(0,0,0,1), 'general_form':'f(x) = ax^3 + bx^2 + cx + d'},\n",
    "    }"
   ]
  },
  {
   "cell_type": "code",
   "execution_count": 41,
   "metadata": {},
   "outputs": [],
   "source": [
    "coefficients = POLYNOMIALS['cubic']['default_coefficients']\n",
    "poly = np.polynomial.Polynomial((0,0, -0.3))"
   ]
  },
  {
   "cell_type": "code",
   "execution_count": 42,
   "metadata": {},
   "outputs": [
    {
     "data": {
      "text/plain": [
       "array([ 0. , -0.6])"
      ]
     },
     "execution_count": 42,
     "metadata": {},
     "output_type": "execute_result"
    }
   ],
   "source": [
    "a=poly.deriv(1)\n",
    "a.coef"
   ]
  },
  {
   "cell_type": "code",
   "execution_count": 32,
   "metadata": {},
   "outputs": [
    {
     "data": {
      "text/latex": [
       "$\\displaystyle f(x) = 3.0 x^{3} + 2.0 x^{2} + 1.0 x + 5.0$"
      ],
      "text/plain": [
       "<IPython.core.display.Math object>"
      ]
     },
     "metadata": {},
     "output_type": "display_data"
    },
    {
     "data": {
      "text/latex": [
       "$\\displaystyle f'(x) = 9.0 x^{2} + 4.0 x + 1.0$"
      ],
      "text/plain": [
       "<IPython.core.display.Math object>"
      ]
     },
     "metadata": {},
     "output_type": "display_data"
    }
   ],
   "source": [
    "import numpy as np\n",
    "import sympy as sp\n",
    "from IPython.display import display, Math\n",
    "\n",
    "# Define the polynomial: 3x^3 + 2x^2 + x + 5\n",
    "p = np.polynomial.Polynomial([5, 1, 2, 3])  # Coefficients in increasing order\n",
    "\n",
    "# Compute the derivative\n",
    "dp = p.deriv()\n",
    "\n",
    "# Convert to SymPy for LaTeX formatting\n",
    "x = sp.Symbol('x')\n",
    "p_sympy = sum(coef * x**i for i, coef in enumerate(p.coef))\n",
    "dp_sympy = sum(coef * x**i for i, coef in enumerate(dp.coef))\n",
    "\n",
    "# Display in LaTeX\n",
    "display(Math(r\"f(x) = \" + sp.latex(p_sympy)))\n",
    "display(Math(r\"f'(x) = \" + sp.latex(dp_sympy)))"
   ]
  },
  {
   "cell_type": "code",
   "execution_count": 29,
   "metadata": {},
   "outputs": [
    {
     "data": {
      "text/plain": [
       "'\\\\left(x\\\\right)'"
      ]
     },
     "execution_count": 29,
     "metadata": {},
     "output_type": "execute_result"
    }
   ],
   "source": [
    "a._repr_latex_term(1, 'x', True)"
   ]
  },
  {
   "cell_type": "code",
   "execution_count": 20,
   "metadata": {},
   "outputs": [
    {
     "ename": "AttributeError",
     "evalue": "'Polynomial' object has no attribute 'repr_latex_term'",
     "output_type": "error",
     "traceback": [
      "\u001b[0;31m---------------------------------------------------------------------------\u001b[0m",
      "\u001b[0;31mAttributeError\u001b[0m                            Traceback (most recent call last)",
      "Cell \u001b[0;32mIn[20], line 1\u001b[0m\n\u001b[0;32m----> 1\u001b[0m \u001b[43mpoly\u001b[49m\u001b[38;5;241;43m.\u001b[39;49m\u001b[43mderiv\u001b[49m\u001b[43m(\u001b[49m\u001b[38;5;241;43m2\u001b[39;49m\u001b[43m)\u001b[49m\u001b[38;5;241;43m.\u001b[39;49m\u001b[43mrepr_latex_term\u001b[49m()\n",
      "\u001b[0;31mAttributeError\u001b[0m: 'Polynomial' object has no attribute 'repr_latex_term'"
     ]
    }
   ],
   "source": [
    "poly.deriv(2).repr_latex_term()"
   ]
  },
  {
   "cell_type": "code",
   "execution_count": 18,
   "metadata": {},
   "outputs": [
    {
     "data": {
      "text/plain": [
       "array([14., 48.])"
      ]
     },
     "execution_count": 18,
     "metadata": {},
     "output_type": "execute_result"
    }
   ],
   "source": [
    "poly.deriv(2).coef"
   ]
  },
  {
   "cell_type": "code",
   "execution_count": null,
   "metadata": {},
   "outputs": [],
   "source": []
  }
 ],
 "metadata": {
  "kernelspec": {
   "display_name": "venv_3128_polydash",
   "language": "python",
   "name": "python3"
  },
  "language_info": {
   "codemirror_mode": {
    "name": "ipython",
    "version": 3
   },
   "file_extension": ".py",
   "mimetype": "text/x-python",
   "name": "python",
   "nbconvert_exporter": "python",
   "pygments_lexer": "ipython3",
   "version": "3.12.8"
  }
 },
 "nbformat": 4,
 "nbformat_minor": 2
}
