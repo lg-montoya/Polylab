{
 "cells": [
  {
   "cell_type": "code",
   "execution_count": null,
   "metadata": {},
   "outputs": [],
   "source": [
    "import dash_bootstrap_components as dbc\n",
    "# Generate a dictionary mapping icon names to their class names\n",
    "fa_icons_dict = {icon: f\"fa-{icon}\" for icon in dbc.icons.FONT_AWESOME}\n",
    "\n",
    "# Print a sample\n",
    "print({k: fa_icons_dict[k] for k in list(fa_icons_dict)[:10]})  # Print first 10 entries"
   ]
  },
  {
   "cell_type": "code",
   "execution_count": null,
   "metadata": {},
   "outputs": [],
   "source": [
    "import numpy as np\n",
    "\n",
    "POLYNOMIALS = {\n",
    "    'constant':{'default_coefficients':(1,0,0,0), 'general_form':'f(x) = a'},\n",
    "    'linear':{'default_coefficients':(0,1,0,0), 'general_form':'f(x) = ax + b'},\n",
    "    'quadratic':{'default_coefficients':(0,0,1,0), 'general_form':'f(x) = ax^2 + bx + c'},\n",
    "    'cubic':{'default_coefficients':(0,0,0,1), 'general_form':'f(x) = ax^3 + bx^2 + cx + d'},\n",
    "    }"
   ]
  },
  {
   "cell_type": "code",
   "execution_count": null,
   "metadata": {},
   "outputs": [],
   "source": [
    "coefficients = POLYNOMIALS['cubic']['default_coefficients']\n",
    "poly = np.polynomial.Polynomial((0,0, -0.3))"
   ]
  },
  {
   "cell_type": "code",
   "execution_count": null,
   "metadata": {},
   "outputs": [],
   "source": [
    "a=poly.deriv(1)"
   ]
  },
  {
   "cell_type": "code",
   "execution_count": 3,
   "metadata": {},
   "outputs": [
    {
     "data": {
      "text/plain": [
       "{0: '#e72e84', 1: '#f77f14', 2: '#52e8b5', 3: '#ffef47', 4: '#21a4d3'}"
      ]
     },
     "execution_count": 3,
     "metadata": {},
     "output_type": "execute_result"
    }
   ],
   "source": [
    "import plotly.io as pio\n",
    "from dash_bootstrap_templates import load_figure_template\n",
    "\n",
    "template_name = \"quartz_dark\"  # or any other template name\n",
    "\n",
    "load_figure_template(template_name)\n",
    "\n",
    "colours = list(pio.templates[template_name][\"layout\"][\"colorway\"])\n",
    "# pio.templates[template_name][\"layout\"]\n",
    "{i:j for i,j in enumerate(colours)}"
   ]
  },
  {
   "cell_type": "code",
   "execution_count": null,
   "metadata": {},
   "outputs": [],
   "source": [
    "import json\n",
    "print(json.dumps(pio.templates[\"darkly\"], indent=2))"
   ]
  },
  {
   "cell_type": "code",
   "execution_count": null,
   "metadata": {},
   "outputs": [],
   "source": [
    "import sympy as sp\n",
    "from IPython.display import display, Math\n",
    "\n",
    "# Define the polynomial: 3x^3 + 2x^2 + x + 5\n",
    "p = np.polynomial.Polynomial([5, 1, 2, 3])  # Coefficients in increasing order\n",
    "\n",
    "# Compute the derivative\n",
    "dp = p.deriv()\n",
    "\n",
    "# Convert to SymPy for LaTeX formatting\n",
    "x = sp.Symbol('x')\n",
    "p_sympy = sum(coef * x**i for i, coef in enumerate(p.coef))\n",
    "dp_sympy = sum(coef * x**i for i, coef in enumerate(dp.coef))\n",
    "\n",
    "# Display in LaTeX\n",
    "display(Math(r\"f(x) = \" + sp.latex(p_sympy)))\n",
    "display(Math(r\"f'(x) = \" + sp.latex(dp_sympy)))"
   ]
  },
  {
   "cell_type": "code",
   "execution_count": null,
   "metadata": {},
   "outputs": [],
   "source": [
    "fr\"f(x) = \" + fr\"f(t) = \" "
   ]
  },
  {
   "cell_type": "code",
   "execution_count": null,
   "metadata": {},
   "outputs": [],
   "source": [
    "import plotly.graph_objs as go\n",
    "import numpy as np\n",
    "x_values = np.linspace(-10, 10, 400)\n",
    "\n",
    "class MyPolynomial:\n",
    "    def __init__(self, coefficients):\n",
    "        self.coefficients = coefficients\n",
    "        self.poly = np.polynomial.Polynomial(coefficients)  # Create a NumPy polynomial object\n",
    "\n",
    "    def evaluate(self, x):\n",
    "        return self.poly(x)    \n",
    "    \n",
    "    def derivative(self, order=1):\n",
    "        return self.poly.deriv(m=order)\n",
    "    \n",
    "    def plot(self):\n",
    "        y_values = self.evaluate(x_values)\n",
    "\n",
    "        fig = go.Figure()\n",
    "\n",
    "        # Plot the polynomial\n",
    "        fig.add_trace(go.Scatter(x=x_values, y=y_values, mode='lines'))\n",
    "        \n",
    "        return fig\n"
   ]
  },
  {
   "cell_type": "code",
   "execution_count": null,
   "metadata": {},
   "outputs": [],
   "source": [
    "type(\"f\")==bool"
   ]
  },
  {
   "cell_type": "code",
   "execution_count": null,
   "metadata": {},
   "outputs": [],
   "source": [
    "y = MyPolynomial([0,0,0,1])\n",
    "d1y = y.derivative(order=1)\n",
    "d2y = y.derivative(order=2)\n",
    "        \n"
   ]
  },
  {
   "cell_type": "code",
   "execution_count": null,
   "metadata": {},
   "outputs": [],
   "source": [
    "y_values = y.evaluate(x_values)\n",
    "d1y_values = MyPolynomial(d1y.coef).evaluate(x_values)\n",
    "d2y_values = MyPolynomial(d2y.coef).evaluate(x_values)"
   ]
  },
  {
   "cell_type": "code",
   "execution_count": null,
   "metadata": {},
   "outputs": [],
   "source": [
    "d2y_values"
   ]
  },
  {
   "cell_type": "code",
   "execution_count": null,
   "metadata": {},
   "outputs": [],
   "source": [
    "import plotly.graph_objs as go\n",
    "import numpy as np\n",
    "from sympy import symbols, latex, expand\n",
    "import plotly.io as pio\n",
    "from defaults import POLYNOMIALS\n",
    "\n",
    "x_values = np.linspace(-10, 10, 400)\n",
    "\n",
    "class PolynomialGraph:\n",
    "    def __init__(self, coefficients):\n",
    "        self.graph = go.Figure()\n",
    "        self.coefficients = coefficients\n",
    "        self.polynomial_y = None\n",
    "        self.polynomial_dy = None\n",
    "        self.polynomial_d2y = None\n",
    "   \n",
    "        \n",
    "    def set_polynomial_y(self):\n",
    "        self.polynomial_y = np.polynomial.Polynomial(self.coefficients)\n",
    "        return self\n",
    "    \n",
    "    def set_polynomial_dy(self):\n",
    "        self.polynomial_dy = self.polynomial_y.deriv(m=1)\n",
    "        return self\n",
    "    \n",
    "    def set_polynomial_d2y(self):\n",
    "        self.polynomial_d2y = self.polynomial_y.deriv(m=2)\n",
    "        return self\n",
    "    \n",
    "    def update_polynomials(self, coefficients):\n",
    "        self.polynomial_y.coef = coefficients\n",
    "        self.set_polynomial_dy()\n",
    "        self.set_polynomial_d2y()\n",
    "        return self\n",
    "    \n",
    "    def evaluate_polynomials(self):\n",
    "        return self.polynomial_y(x_values), self.polynomial_dy(x_values), self.polynomial_d2y(x_values)"
   ]
  },
  {
   "cell_type": "code",
   "execution_count": null,
   "metadata": {},
   "outputs": [],
   "source": [
    "me = PolynomialGraph(POLYNOMIALS['cubic']['default_coefficients'])\n",
    "me.set_polynomial_y()\n",
    "me.set_polynomial_dy()\n",
    "me.set_polynomial_d2y()\n",
    "print(me.polynomial_y, me.polynomial_dy, me.polynomial_d2y)"
   ]
  },
  {
   "cell_type": "code",
   "execution_count": null,
   "metadata": {},
   "outputs": [],
   "source": [
    "me.update_polynomials((0,0,1,0))\n",
    "print(me.polynomial_y, me.polynomial_dy, me.polynomial_d2y)"
   ]
  },
  {
   "cell_type": "code",
   "execution_count": null,
   "metadata": {},
   "outputs": [],
   "source": [
    "me.update_polynomials((0,3,4,5))\n",
    "print(me.polynomial_y, me.polynomial_dy, me.polynomial_d2y)"
   ]
  },
  {
   "cell_type": "code",
   "execution_count": null,
   "metadata": {},
   "outputs": [],
   "source": [
    "me.evaluate_polynomials()"
   ]
  },
  {
   "cell_type": "markdown",
   "metadata": {},
   "source": []
  }
 ],
 "metadata": {
  "kernelspec": {
   "display_name": "venv_3128_polydash",
   "language": "python",
   "name": "python3"
  },
  "language_info": {
   "codemirror_mode": {
    "name": "ipython",
    "version": 3
   },
   "file_extension": ".py",
   "mimetype": "text/x-python",
   "name": "python",
   "nbconvert_exporter": "python",
   "pygments_lexer": "ipython3",
   "version": "3.12.8"
  }
 },
 "nbformat": 4,
 "nbformat_minor": 2
}
