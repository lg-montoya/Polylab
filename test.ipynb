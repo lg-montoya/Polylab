{
 "cells": [
  {
   "cell_type": "code",
   "execution_count": 4,
   "metadata": {},
   "outputs": [],
   "source": [
    "POLYNOMIALS = {\n",
    "    'constant':{'default_coefficients':[1], 'general_form':'f(x) = a'},\n",
    "    'linear':{'default_coefficients':[1,1], 'general_form':'f(x) = ax + b'},\n",
    "    'quadratic':{'default_coefficients':[1,2,3], 'general_form':'f(x) = ax^2 + bx + c'},\n",
    "    'cubic':{'default_coefficients':[1,1,1,1], 'general_form':'f(x) = ax^3 + bx^2 + cx + d'},\n",
    "    }"
   ]
  },
  {
   "cell_type": "code",
   "execution_count": 8,
   "metadata": {},
   "outputs": [],
   "source": [
    "(POLYNOMIALS['quadratic']['default_coefficients']).reverse()"
   ]
  },
  {
   "cell_type": "code",
   "execution_count": 12,
   "metadata": {},
   "outputs": [
    {
     "data": {
      "text/plain": [
       "[3, 2, 1]"
      ]
     },
     "execution_count": 12,
     "metadata": {},
     "output_type": "execute_result"
    }
   ],
   "source": [
    "list(reversed(POLYNOMIALS['quadratic']['default_coefficients']))"
   ]
  },
  {
   "cell_type": "code",
   "execution_count": 13,
   "metadata": {},
   "outputs": [
    {
     "name": "stdout",
     "output_type": "stream",
     "text": [
      "[0, 0, 0, -1.1]\n"
     ]
    }
   ],
   "source": [
    "original_list = [None, None, None, -1.1]\n",
    "modified_list = [0 if x is None else x for x in original_list]\n",
    "print(modified_list)  # Output: [0, 0, 0, -1.1]"
   ]
  },
  {
   "cell_type": "code",
   "execution_count": 15,
   "metadata": {},
   "outputs": [
    {
     "name": "stdout",
     "output_type": "stream",
     "text": [
      "[0, 0, 0, -1.1]\n"
     ]
    }
   ],
   "source": [
    "original_list = [None, None, None, -1.1]\n",
    "original_list = [0 if x is None else x for x in original_list]\n",
    "print(original_list)  # Output: [0, 0, 0, -1.1]"
   ]
  },
  {
   "cell_type": "code",
   "execution_count": null,
   "metadata": {},
   "outputs": [],
   "source": []
  }
 ],
 "metadata": {
  "kernelspec": {
   "display_name": "venv_3128_polydash",
   "language": "python",
   "name": "python3"
  },
  "language_info": {
   "codemirror_mode": {
    "name": "ipython",
    "version": 3
   },
   "file_extension": ".py",
   "mimetype": "text/x-python",
   "name": "python",
   "nbconvert_exporter": "python",
   "pygments_lexer": "ipython3",
   "version": "3.12.8"
  }
 },
 "nbformat": 4,
 "nbformat_minor": 2
}
