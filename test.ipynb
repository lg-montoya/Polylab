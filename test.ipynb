{
 "cells": [
  {
   "cell_type": "code",
   "execution_count": null,
   "metadata": {},
   "outputs": [],
   "source": [
    "import dash_bootstrap_components as dbc\n",
    "# Generate a dictionary mapping icon names to their class names\n",
    "fa_icons_dict = {icon: f\"fa-{icon}\" for icon in dbc.icons.FONT_AWESOME}\n",
    "\n",
    "# Print a sample\n",
    "print({k: fa_icons_dict[k] for k in list(fa_icons_dict)[:10]})  # Print first 10 entries"
   ]
  },
  {
   "cell_type": "code",
   "execution_count": null,
   "metadata": {},
   "outputs": [],
   "source": [
    "import numpy as np\n",
    "\n",
    "POLYNOMIALS = {\n",
    "    'constant':{'default_coefficients':(1,0,0,0), 'general_form':'f(x) = a'},\n",
    "    'linear':{'default_coefficients':(0,1,0,0), 'general_form':'f(x) = ax + b'},\n",
    "    'quadratic':{'default_coefficients':(0,0,1,0), 'general_form':'f(x) = ax^2 + bx + c'},\n",
    "    'cubic':{'default_coefficients':(0,0,0,1), 'general_form':'f(x) = ax^3 + bx^2 + cx + d'},\n",
    "    }"
   ]
  },
  {
   "cell_type": "code",
   "execution_count": null,
   "metadata": {},
   "outputs": [],
   "source": [
    "coefficients = POLYNOMIALS['cubic']['default_coefficients']\n",
    "poly = np.polynomial.Polynomial((0,0, -0.3))"
   ]
  },
  {
   "cell_type": "code",
   "execution_count": null,
   "metadata": {},
   "outputs": [],
   "source": [
    "a=poly.deriv(1)"
   ]
  },
  {
   "cell_type": "code",
   "execution_count": 7,
   "metadata": {},
   "outputs": [
    {
     "data": {
      "text/plain": [
       "Layout({\n",
       "    'annotationdefaults': {'arrowcolor': '#f2f5fa', 'arrowhead': 0, 'arrowwidth': 1, 'font': {'color': '#32fbe2'}},\n",
       "    'autotypenumbers': 'strict',\n",
       "    'coloraxis': {'colorbar': {'outlinewidth': 0, 'ticks': ''}},\n",
       "    'colorscale': {'diverging': [[0, '#8e0152'], [0.1, '#c51b7d'], [0.2,\n",
       "                                 '#de77ae'], [0.3, '#f1b6da'], [0.4, '#fde0ef'],\n",
       "                                 [0.5, '#f7f7f7'], [0.6, '#e6f5d0'], [0.7,\n",
       "                                 '#b8e186'], [0.8, '#7fbc41'], [0.9, '#4d9221'],\n",
       "                                 [1, '#276419']],\n",
       "                   'sequential': [[0.0, '#6f42c1'], [0.1, '#8149bb'], [0.2,\n",
       "                                  '#924fb5'], [0.30000000000000004, '#a456b0'],\n",
       "                                  [0.4, '#b65caa'], [0.5, '#c763a4'],\n",
       "                                  [0.6000000000000001, '#d96a9e'],\n",
       "                                  [0.7000000000000001, '#eb7099'], [0.8,\n",
       "                                  '#fc7793'], [0.9, '#ff7d8d'], [1.0, '#ff8487']],\n",
       "                   'sequentialminus': [[0.0, '#0d0887'], [0.1111111111111111,\n",
       "                                       '#46039f'], [0.2222222222222222, '#7201a8'],\n",
       "                                       [0.3333333333333333, '#9c179e'],\n",
       "                                       [0.4444444444444444, '#bd3786'],\n",
       "                                       [0.5555555555555556, '#d8576b'],\n",
       "                                       [0.6666666666666666, '#ed7953'],\n",
       "                                       [0.7777777777777778, '#fb9f3a'],\n",
       "                                       [0.8888888888888888, '#fdca26'], [1.0,\n",
       "                                       '#f0f921']]},\n",
       "    'colorway': [#6829ad, #e14b56, #19f37f, #f7c200, #51a0f6],\n",
       "    'font': {'color': '#32fbe2',\n",
       "             'family': ('Lato,-apple-system,BlinkMacSys' ... 'oe UI Emoji\",\"Segoe UI Symbol\"')},\n",
       "    'geo': {'bgcolor': '#1a0933',\n",
       "            'lakecolor': '#1a0933',\n",
       "            'landcolor': '#1a0933',\n",
       "            'showlakes': True,\n",
       "            'showland': True,\n",
       "            'subunitcolor': '#506784'},\n",
       "    'hoverlabel': {'align': 'left',\n",
       "                   'font': {'family': ('Lato,-apple-system,BlinkMacSys' ... 'oe UI Emoji\",\"Segoe UI Symbol\"')}},\n",
       "    'hovermode': 'closest',\n",
       "    'mapbox': {'style': 'dark'},\n",
       "    'paper_bgcolor': '#1a0933',\n",
       "    'piecolorway': [#6829ad, #e14b56, #19f37f, #f7c200, #51a0f6],\n",
       "    'plot_bgcolor': '#1a0933',\n",
       "    'polar': {'angularaxis': {'gridcolor': '#506784', 'linecolor': '#506784', 'ticks': ''},\n",
       "              'bgcolor': 'rgb(17,17,17)',\n",
       "              'radialaxis': {'gridcolor': '#506784', 'linecolor': '#506784', 'ticks': ''}},\n",
       "    'scene': {'xaxis': {'backgroundcolor': 'rgb(17,17,17)',\n",
       "                        'gridcolor': '#506784',\n",
       "                        'gridwidth': 2,\n",
       "                        'linecolor': '#506784',\n",
       "                        'showbackground': True,\n",
       "                        'ticks': '',\n",
       "                        'zerolinecolor': '#C8D4E3'},\n",
       "              'yaxis': {'backgroundcolor': 'rgb(17,17,17)',\n",
       "                        'gridcolor': '#506784',\n",
       "                        'gridwidth': 2,\n",
       "                        'linecolor': '#506784',\n",
       "                        'showbackground': True,\n",
       "                        'ticks': '',\n",
       "                        'zerolinecolor': '#C8D4E3'},\n",
       "              'zaxis': {'backgroundcolor': 'rgb(17,17,17)',\n",
       "                        'gridcolor': '#506784',\n",
       "                        'gridwidth': 2,\n",
       "                        'linecolor': '#506784',\n",
       "                        'showbackground': True,\n",
       "                        'ticks': '',\n",
       "                        'zerolinecolor': '#C8D4E3'}},\n",
       "    'shapedefaults': {'line': {'color': '#f2f5fa'}},\n",
       "    'sliderdefaults': {'bgcolor': '#C8D4E3', 'bordercolor': 'rgb(17,17,17)', 'borderwidth': 1, 'tickwidth': 0},\n",
       "    'ternary': {'aaxis': {'gridcolor': '#506784', 'linecolor': '#506784', 'ticks': ''},\n",
       "                'baxis': {'gridcolor': '#506784', 'linecolor': '#506784', 'ticks': ''},\n",
       "                'bgcolor': 'rgb(17,17,17)',\n",
       "                'caxis': {'gridcolor': '#506784', 'linecolor': '#506784', 'ticks': ''}},\n",
       "    'title': {'x': 0.05},\n",
       "    'updatemenudefaults': {'bgcolor': '#506784', 'borderwidth': 0},\n",
       "    'xaxis': {'automargin': True,\n",
       "              'gridcolor': '#1c1c41',\n",
       "              'gridwidth': 0.5,\n",
       "              'linecolor': '#506784',\n",
       "              'ticks': '',\n",
       "              'title': {'standoff': 15},\n",
       "              'zerolinecolor': '#1c1c41',\n",
       "              'zerolinewidth': 2},\n",
       "    'yaxis': {'automargin': True,\n",
       "              'gridcolor': '#1c1c41',\n",
       "              'gridwidth': 0.5,\n",
       "              'linecolor': '#506784',\n",
       "              'ticks': '',\n",
       "              'title': {'standoff': 15},\n",
       "              'zerolinecolor': '#1c1c41',\n",
       "              'zerolinewidth': 2}\n",
       "})"
      ]
     },
     "execution_count": 7,
     "metadata": {},
     "output_type": "execute_result"
    }
   ],
   "source": [
    "template_name = \"vapor\"  # or any other template name\n",
    "\n",
    "load_figure_template(template_name)\n",
    "\n",
    "# list(pio.templates[template_name][\"layout\"][\"colorway\"])\n",
    "pio.templates[template_name][\"layout\"]"
   ]
  },
  {
   "cell_type": "code",
   "execution_count": 8,
   "metadata": {},
   "outputs": [
    {
     "data": {
      "text/plain": [
       "Layout({\n",
       "    'annotationdefaults': {'arrowcolor': '#f2f5fa', 'arrowhead': 0, 'arrowwidth': 1, 'font': {'color': '#dee2e6'}},\n",
       "    'autotypenumbers': 'strict',\n",
       "    'coloraxis': {'colorbar': {'outlinewidth': 0, 'ticks': ''}},\n",
       "    'colorscale': {'diverging': [[0, '#8e0152'], [0.1, '#c51b7d'], [0.2,\n",
       "                                 '#de77ae'], [0.3, '#f1b6da'], [0.4, '#fde0ef'],\n",
       "                                 [0.5, '#f7f7f7'], [0.6, '#e6f5d0'], [0.7,\n",
       "                                 '#b8e186'], [0.8, '#7fbc41'], [0.9, '#4d9221'],\n",
       "                                 [1, '#276419']],\n",
       "                   'sequential': [[0.0, '#e83283'], [0.1, '#f03f7e'], [0.2,\n",
       "                                  '#f84c79'], [0.30000000000000004, '#ff5974'],\n",
       "                                  [0.4, '#ff666f'], [0.5, '#ff7469'],\n",
       "                                  [0.6000000000000001, '#ff8164'],\n",
       "                                  [0.7000000000000001, '#ff8e5f'], [0.8,\n",
       "                                  '#ff9b5a'], [0.9, '#ffa855'], [1.0, '#ffb550']],\n",
       "                   'sequentialminus': [[0.0, '#0d0887'], [0.1111111111111111,\n",
       "                                       '#46039f'], [0.2222222222222222, '#7201a8'],\n",
       "                                       [0.3333333333333333, '#9c179e'],\n",
       "                                       [0.4444444444444444, '#bd3786'],\n",
       "                                       [0.5555555555555556, '#d8576b'],\n",
       "                                       [0.6666666666666666, '#ed7953'],\n",
       "                                       [0.7777777777777778, '#fb9f3a'],\n",
       "                                       [0.8888888888888888, '#fdca26'], [1.0,\n",
       "                                       '#f0f921']]},\n",
       "    'colorway': [#e72e84, #f77f14, #52e8b5, #ffef47, #21a4d3],\n",
       "    'font': {'color': '#dee2e6',\n",
       "             'family': ('system-ui,-apple-system,\"Segoe' ... ' UI Symbol\",\"Noto Color Emoji\"')},\n",
       "    'geo': {'bgcolor': '#212529',\n",
       "            'lakecolor': '#212529',\n",
       "            'landcolor': '#212529',\n",
       "            'showlakes': True,\n",
       "            'showland': True,\n",
       "            'subunitcolor': '#506784'},\n",
       "    'hoverlabel': {'align': 'left',\n",
       "                   'font': {'family': ('system-ui,-apple-system,\"Segoe' ... ' UI Symbol\",\"Noto Color Emoji\"')}},\n",
       "    'hovermode': 'closest',\n",
       "    'mapbox': {'style': 'dark'},\n",
       "    'paper_bgcolor': '#212529',\n",
       "    'piecolorway': [#e72e84, #f77f14, #52e8b5, #ffef47, #21a4d3],\n",
       "    'plot_bgcolor': '#212529',\n",
       "    'polar': {'angularaxis': {'gridcolor': '#506784', 'linecolor': '#506784', 'ticks': ''},\n",
       "              'bgcolor': 'rgb(17,17,17)',\n",
       "              'radialaxis': {'gridcolor': '#506784', 'linecolor': '#506784', 'ticks': ''}},\n",
       "    'scene': {'xaxis': {'backgroundcolor': 'rgb(17,17,17)',\n",
       "                        'gridcolor': '#506784',\n",
       "                        'gridwidth': 2,\n",
       "                        'linecolor': '#506784',\n",
       "                        'showbackground': True,\n",
       "                        'ticks': '',\n",
       "                        'zerolinecolor': '#C8D4E3'},\n",
       "              'yaxis': {'backgroundcolor': 'rgb(17,17,17)',\n",
       "                        'gridcolor': '#506784',\n",
       "                        'gridwidth': 2,\n",
       "                        'linecolor': '#506784',\n",
       "                        'showbackground': True,\n",
       "                        'ticks': '',\n",
       "                        'zerolinecolor': '#C8D4E3'},\n",
       "              'zaxis': {'backgroundcolor': 'rgb(17,17,17)',\n",
       "                        'gridcolor': '#506784',\n",
       "                        'gridwidth': 2,\n",
       "                        'linecolor': '#506784',\n",
       "                        'showbackground': True,\n",
       "                        'ticks': '',\n",
       "                        'zerolinecolor': '#C8D4E3'}},\n",
       "    'shapedefaults': {'line': {'color': '#f2f5fa'}},\n",
       "    'sliderdefaults': {'bgcolor': '#C8D4E3', 'bordercolor': 'rgb(17,17,17)', 'borderwidth': 1, 'tickwidth': 0},\n",
       "    'ternary': {'aaxis': {'gridcolor': '#506784', 'linecolor': '#506784', 'ticks': ''},\n",
       "                'baxis': {'gridcolor': '#506784', 'linecolor': '#506784', 'ticks': ''},\n",
       "                'bgcolor': 'rgb(17,17,17)',\n",
       "                'caxis': {'gridcolor': '#506784', 'linecolor': '#506784', 'ticks': ''}},\n",
       "    'title': {'x': 0.05},\n",
       "    'updatemenudefaults': {'bgcolor': '#506784', 'borderwidth': 0},\n",
       "    'xaxis': {'automargin': True,\n",
       "              'gridcolor': '#303438',\n",
       "              'gridwidth': 0.5,\n",
       "              'linecolor': '#506784',\n",
       "              'ticks': '',\n",
       "              'title': {'standoff': 15},\n",
       "              'zerolinecolor': '#303438',\n",
       "              'zerolinewidth': 2},\n",
       "    'yaxis': {'automargin': True,\n",
       "              'gridcolor': '#303438',\n",
       "              'gridwidth': 0.5,\n",
       "              'linecolor': '#506784',\n",
       "              'ticks': '',\n",
       "              'title': {'standoff': 15},\n",
       "              'zerolinecolor': '#303438',\n",
       "              'zerolinewidth': 2}\n",
       "})"
      ]
     },
     "execution_count": 8,
     "metadata": {},
     "output_type": "execute_result"
    }
   ],
   "source": [
    "import plotly.io as pio\n",
    "from dash_bootstrap_templates import load_figure_template\n",
    "\n",
    "template_name = \"quartz_dark\"  # or any other template name\n",
    "\n",
    "load_figure_template(template_name)\n",
    "\n",
    "# list(pio.templates[template_name][\"layout\"][\"colorway\"])\n",
    "pio.templates[template_name][\"layout\"]"
   ]
  },
  {
   "cell_type": "code",
   "execution_count": null,
   "metadata": {},
   "outputs": [],
   "source": [
    "import json\n",
    "print(json.dumps(pio.templates[\"darkly\"], indent=2))"
   ]
  },
  {
   "cell_type": "code",
   "execution_count": null,
   "metadata": {},
   "outputs": [],
   "source": [
    "import sympy as sp\n",
    "from IPython.display import display, Math\n",
    "\n",
    "# Define the polynomial: 3x^3 + 2x^2 + x + 5\n",
    "p = np.polynomial.Polynomial([5, 1, 2, 3])  # Coefficients in increasing order\n",
    "\n",
    "# Compute the derivative\n",
    "dp = p.deriv()\n",
    "\n",
    "# Convert to SymPy for LaTeX formatting\n",
    "x = sp.Symbol('x')\n",
    "p_sympy = sum(coef * x**i for i, coef in enumerate(p.coef))\n",
    "dp_sympy = sum(coef * x**i for i, coef in enumerate(dp.coef))\n",
    "\n",
    "# Display in LaTeX\n",
    "display(Math(r\"f(x) = \" + sp.latex(p_sympy)))\n",
    "display(Math(r\"f'(x) = \" + sp.latex(dp_sympy)))"
   ]
  },
  {
   "cell_type": "code",
   "execution_count": null,
   "metadata": {},
   "outputs": [],
   "source": [
    "fr\"f(x) = \" + fr\"f(t) = \" "
   ]
  },
  {
   "cell_type": "code",
   "execution_count": null,
   "metadata": {},
   "outputs": [],
   "source": []
  },
  {
   "cell_type": "code",
   "execution_count": null,
   "metadata": {},
   "outputs": [],
   "source": [
    "import plotly.graph_objs as go\n",
    "import numpy as np\n",
    "x_values = np.linspace(-10, 10, 400)\n",
    "\n",
    "class MyPolynomial:\n",
    "    def __init__(self, coefficients):\n",
    "        self.coefficients = coefficients\n",
    "        self.poly = np.polynomial.Polynomial(coefficients)  # Create a NumPy polynomial object\n",
    "\n",
    "    def evaluate(self, x):\n",
    "        return self.poly(x)    \n",
    "    \n",
    "    def derivative(self, order=1):\n",
    "        return self.poly.deriv(m=order)\n",
    "    \n",
    "    def plot(self):\n",
    "        y_values = self.evaluate(x_values)\n",
    "\n",
    "        fig = go.Figure()\n",
    "\n",
    "        # Plot the polynomial\n",
    "        fig.add_trace(go.Scatter(x=x_values, y=y_values, mode='lines'))\n",
    "        \n",
    "        return fig\n"
   ]
  },
  {
   "cell_type": "code",
   "execution_count": null,
   "metadata": {},
   "outputs": [],
   "source": [
    "type(\"f\")==bool"
   ]
  },
  {
   "cell_type": "code",
   "execution_count": null,
   "metadata": {},
   "outputs": [],
   "source": [
    "y = MyPolynomial([0,0,0,1])\n",
    "d1y = y.derivative(order=1)\n",
    "d2y = y.derivative(order=2)\n",
    "        \n"
   ]
  },
  {
   "cell_type": "code",
   "execution_count": null,
   "metadata": {},
   "outputs": [],
   "source": [
    "y_values = y.evaluate(x_values)\n",
    "d1y_values = MyPolynomial(d1y.coef).evaluate(x_values)\n",
    "d2y_values = MyPolynomial(d2y.coef).evaluate(x_values)"
   ]
  },
  {
   "cell_type": "code",
   "execution_count": null,
   "metadata": {},
   "outputs": [],
   "source": [
    "d2y_values"
   ]
  },
  {
   "cell_type": "code",
   "execution_count": null,
   "metadata": {},
   "outputs": [],
   "source": [
    "import plotly.graph_objs as go\n",
    "import numpy as np\n",
    "from sympy import symbols, latex, expand\n",
    "import plotly.io as pio\n",
    "from defaults import POLYNOMIALS\n",
    "\n",
    "x_values = np.linspace(-10, 10, 400)\n",
    "\n",
    "class PolynomialGraph:\n",
    "    def __init__(self, coefficients):\n",
    "        self.graph = go.Figure()\n",
    "        self.coefficients = coefficients\n",
    "        self.polynomial_y = None\n",
    "        self.polynomial_dy = None\n",
    "        self.polynomial_d2y = None\n",
    "   \n",
    "        \n",
    "    def set_polynomial_y(self):\n",
    "        self.polynomial_y = np.polynomial.Polynomial(self.coefficients)\n",
    "        return self\n",
    "    \n",
    "    def set_polynomial_dy(self):\n",
    "        self.polynomial_dy = self.polynomial_y.deriv(m=1)\n",
    "        return self\n",
    "    \n",
    "    def set_polynomial_d2y(self):\n",
    "        self.polynomial_d2y = self.polynomial_y.deriv(m=2)\n",
    "        return self\n",
    "    \n",
    "    def update_polynomials(self, coefficients):\n",
    "        self.polynomial_y.coef = coefficients\n",
    "        self.set_polynomial_dy()\n",
    "        self.set_polynomial_d2y()\n",
    "        return self\n",
    "    \n",
    "    def evaluate_polynomials(self):\n",
    "        return self.polynomial_y(x_values), self.polynomial_dy(x_values), self.polynomial_d2y(x_values)"
   ]
  },
  {
   "cell_type": "code",
   "execution_count": null,
   "metadata": {},
   "outputs": [],
   "source": [
    "me = PolynomialGraph(POLYNOMIALS['cubic']['default_coefficients'])\n",
    "me.set_polynomial_y()\n",
    "me.set_polynomial_dy()\n",
    "me.set_polynomial_d2y()\n",
    "print(me.polynomial_y, me.polynomial_dy, me.polynomial_d2y)"
   ]
  },
  {
   "cell_type": "code",
   "execution_count": null,
   "metadata": {},
   "outputs": [],
   "source": [
    "me.update_polynomials((0,0,1,0))\n",
    "print(me.polynomial_y, me.polynomial_dy, me.polynomial_d2y)"
   ]
  },
  {
   "cell_type": "code",
   "execution_count": null,
   "metadata": {},
   "outputs": [],
   "source": [
    "me.update_polynomials((0,3,4,5))\n",
    "print(me.polynomial_y, me.polynomial_dy, me.polynomial_d2y)"
   ]
  },
  {
   "cell_type": "code",
   "execution_count": null,
   "metadata": {},
   "outputs": [],
   "source": [
    "me.evaluate_polynomials()"
   ]
  },
  {
   "cell_type": "markdown",
   "metadata": {},
   "source": []
  }
 ],
 "metadata": {
  "kernelspec": {
   "display_name": "venv_3128_polydash",
   "language": "python",
   "name": "python3"
  },
  "language_info": {
   "codemirror_mode": {
    "name": "ipython",
    "version": 3
   },
   "file_extension": ".py",
   "mimetype": "text/x-python",
   "name": "python",
   "nbconvert_exporter": "python",
   "pygments_lexer": "ipython3",
   "version": "3.12.8"
  }
 },
 "nbformat": 4,
 "nbformat_minor": 2
}
