{
 "cells": [
  {
   "cell_type": "code",
   "execution_count": null,
   "metadata": {},
   "outputs": [],
   "source": [
    "import dash_bootstrap_components as dbc\n",
    "# Generate a dictionary mapping icon names to their class names\n",
    "fa_icons_dict = {icon: f\"fa-{icon}\" for icon in dbc.icons.FONT_AWESOME}\n",
    "\n",
    "# Print a sample\n",
    "print({k: fa_icons_dict[k] for k in list(fa_icons_dict)[:10]})  # Print first 10 entries"
   ]
  },
  {
   "cell_type": "code",
   "execution_count": null,
   "metadata": {},
   "outputs": [],
   "source": [
    "import numpy as np\n",
    "\n",
    "POLYNOMIALS = {\n",
    "    'constant':{'default_coefficients':(1,0,0,0), 'general_form':'f(x) = a'},\n",
    "    'linear':{'default_coefficients':(0,1,0,0), 'general_form':'f(x) = ax + b'},\n",
    "    'quadratic':{'default_coefficients':(0,0,1,0), 'general_form':'f(x) = ax^2 + bx + c'},\n",
    "    'cubic':{'default_coefficients':(0,0,0,1), 'general_form':'f(x) = ax^3 + bx^2 + cx + d'},\n",
    "    }"
   ]
  },
  {
   "cell_type": "code",
   "execution_count": null,
   "metadata": {},
   "outputs": [],
   "source": [
    "coefficients = POLYNOMIALS['cubic']['default_coefficients']\n",
    "poly = np.polynomial.Polynomial((0,0, -0.3))"
   ]
  },
  {
   "cell_type": "code",
   "execution_count": null,
   "metadata": {},
   "outputs": [],
   "source": [
    "a=poly.deriv(1)"
   ]
  },
  {
   "cell_type": "code",
   "execution_count": 7,
   "metadata": {},
   "outputs": [
    {
     "data": {
      "text/plain": [
       "Layout({\n",
       "    'annotationdefaults': {'arrowcolor': '#f2f5fa', 'arrowhead': 0, 'arrowwidth': 1, 'font': {'color': '#32fbe2'}},\n",
       "    'autotypenumbers': 'strict',\n",
       "    'coloraxis': {'colorbar': {'outlinewidth': 0, 'ticks': ''}},\n",
       "    'colorscale': {'diverging': [[0, '#8e0152'], [0.1, '#c51b7d'], [0.2,\n",
       "                                 '#de77ae'], [0.3, '#f1b6da'], [0.4, '#fde0ef'],\n",
       "                                 [0.5, '#f7f7f7'], [0.6, '#e6f5d0'], [0.7,\n",
       "                                 '#b8e186'], [0.8, '#7fbc41'], [0.9, '#4d9221'],\n",
       "                                 [1, '#276419']],\n",
       "                   'sequential': [[0.0, '#6f42c1'], [0.1, '#8149bb'], [0.2,\n",
       "                                  '#924fb5'], [0.30000000000000004, '#a456b0'],\n",
       "                                  [0.4, '#b65caa'], [0.5, '#c763a4'],\n",
       "                                  [0.6000000000000001, '#d96a9e'],\n",
       "                                  [0.7000000000000001, '#eb7099'], [0.8,\n",
       "                                  '#fc7793'], [0.9, '#ff7d8d'], [1.0, '#ff8487']],\n",
       "                   'sequentialminus': [[0.0, '#0d0887'], [0.1111111111111111,\n",
       "                                       '#46039f'], [0.2222222222222222, '#7201a8'],\n",
       "                                       [0.3333333333333333, '#9c179e'],\n",
       "                                       [0.4444444444444444, '#bd3786'],\n",
       "                                       [0.5555555555555556, '#d8576b'],\n",
       "                                       [0.6666666666666666, '#ed7953'],\n",
       "                                       [0.7777777777777778, '#fb9f3a'],\n",
       "                                       [0.8888888888888888, '#fdca26'], [1.0,\n",
       "                                       '#f0f921']]},\n",
       "    'colorway': [#6829ad, #e14b56, #19f37f, #f7c200, #51a0f6],\n",
       "    'font': {'color': '#32fbe2',\n",
       "             'family': ('Lato,-apple-system,BlinkMacSys' ... 'oe UI Emoji\",\"Segoe UI Symbol\"')},\n",
       "    'geo': {'bgcolor': '#1a0933',\n",
       "            'lakecolor': '#1a0933',\n",
       "            'landcolor': '#1a0933',\n",
       "            'showlakes': True,\n",
       "            'showland': True,\n",
       "            'subunitcolor': '#506784'},\n",
       "    'hoverlabel': {'align': 'left',\n",
       "                   'font': {'family': ('Lato,-apple-system,BlinkMacSys' ... 'oe UI Emoji\",\"Segoe UI Symbol\"')}},\n",
       "    'hovermode': 'closest',\n",
       "    'mapbox': {'style': 'dark'},\n",
       "    'paper_bgcolor': '#1a0933',\n",
       "    'piecolorway': [#6829ad, #e14b56, #19f37f, #f7c200, #51a0f6],\n",
       "    'plot_bgcolor': '#1a0933',\n",
       "    'polar': {'angularaxis': {'gridcolor': '#506784', 'linecolor': '#506784', 'ticks': ''},\n",
       "              'bgcolor': 'rgb(17,17,17)',\n",
       "              'radialaxis': {'gridcolor': '#506784', 'linecolor': '#506784', 'ticks': ''}},\n",
       "    'scene': {'xaxis': {'backgroundcolor': 'rgb(17,17,17)',\n",
       "                        'gridcolor': '#506784',\n",
       "                        'gridwidth': 2,\n",
       "                        'linecolor': '#506784',\n",
       "                        'showbackground': True,\n",
       "                        'ticks': '',\n",
       "                        'zerolinecolor': '#C8D4E3'},\n",
       "              'yaxis': {'backgroundcolor': 'rgb(17,17,17)',\n",
       "                        'gridcolor': '#506784',\n",
       "                        'gridwidth': 2,\n",
       "                        'linecolor': '#506784',\n",
       "                        'showbackground': True,\n",
       "                        'ticks': '',\n",
       "                        'zerolinecolor': '#C8D4E3'},\n",
       "              'zaxis': {'backgroundcolor': 'rgb(17,17,17)',\n",
       "                        'gridcolor': '#506784',\n",
       "                        'gridwidth': 2,\n",
       "                        'linecolor': '#506784',\n",
       "                        'showbackground': True,\n",
       "                        'ticks': '',\n",
       "                        'zerolinecolor': '#C8D4E3'}},\n",
       "    'shapedefaults': {'line': {'color': '#f2f5fa'}},\n",
       "    'sliderdefaults': {'bgcolor': '#C8D4E3', 'bordercolor': 'rgb(17,17,17)', 'borderwidth': 1, 'tickwidth': 0},\n",
       "    'ternary': {'aaxis': {'gridcolor': '#506784', 'linecolor': '#506784', 'ticks': ''},\n",
       "                'baxis': {'gridcolor': '#506784', 'linecolor': '#506784', 'ticks': ''},\n",
       "                'bgcolor': 'rgb(17,17,17)',\n",
       "                'caxis': {'gridcolor': '#506784', 'linecolor': '#506784', 'ticks': ''}},\n",
       "    'title': {'x': 0.05},\n",
       "    'updatemenudefaults': {'bgcolor': '#506784', 'borderwidth': 0},\n",
       "    'xaxis': {'automargin': True,\n",
       "              'gridcolor': '#1c1c41',\n",
       "              'gridwidth': 0.5,\n",
       "              'linecolor': '#506784',\n",
       "              'ticks': '',\n",
       "              'title': {'standoff': 15},\n",
       "              'zerolinecolor': '#1c1c41',\n",
       "              'zerolinewidth': 2},\n",
       "    'yaxis': {'automargin': True,\n",
       "              'gridcolor': '#1c1c41',\n",
       "              'gridwidth': 0.5,\n",
       "              'linecolor': '#506784',\n",
       "              'ticks': '',\n",
       "              'title': {'standoff': 15},\n",
       "              'zerolinecolor': '#1c1c41',\n",
       "              'zerolinewidth': 2}\n",
       "})"
      ]
     },
     "execution_count": 7,
     "metadata": {},
     "output_type": "execute_result"
    }
   ],
   "source": [
    "template_name = \"vapor\"  # or any other template name\n",
    "\n",
    "load_figure_template(template_name)\n",
    "\n",
    "# list(pio.templates[template_name][\"layout\"][\"colorway\"])\n",
    "pio.templates[template_name][\"layout\"]"
   ]
  },
  {
   "cell_type": "code",
   "execution_count": 6,
   "metadata": {},
   "outputs": [
    {
     "data": {
      "text/plain": [
       "Layout({\n",
       "    'annotationdefaults': {'font': {'color': 'rgba(255, 255, 255, 0.8784313725)', 'size': 14}, 'showarrow': False},\n",
       "    'bargroupgap': 0.1,\n",
       "    'coloraxis': {'autocolorscale': False,\n",
       "                  'colorbar': {'outlinewidth': 0,\n",
       "                               'showticklabels': True,\n",
       "                               'thickness': 20,\n",
       "                               'tickcolor': 'rgba(255, 255, 255, 0.3019607843)',\n",
       "                               'tickfont': {'color': 'rgba(255, 255, 255, 0.6)', 'size': 14},\n",
       "                               'ticklabelposition': 'outside',\n",
       "                               'ticklen': 8,\n",
       "                               'ticks': 'outside',\n",
       "                               'tickwidth': 1,\n",
       "                               'title': {'font': {'color': 'rgba(255, 255, 255, 0.6)', 'size': 14}}}},\n",
       "    'colorscale': {'diverging': [[0.0, '#7e000c'], [0.05555555555555555,\n",
       "                                 '#9d1021'], [0.1111111111111111, '#bc1f37'],\n",
       "                                 [0.16666666666666666, '#db2f4c'],\n",
       "                                 [0.2222222222222222, '#ea536b'],\n",
       "                                 [0.2777777777777778, '#f67486'],\n",
       "                                 [0.3333333333333333, '#fe94a0'],\n",
       "                                 [0.3888888888888889, '#fbb6be'],\n",
       "                                 [0.4444444444444444, '#f8d6da'], [0.5, '#E6E8EA'],\n",
       "                                 [0.5555555555555556, '#afe7f9'],\n",
       "                                 [0.6111111111111112, '#5bd6fe'],\n",
       "                                 [0.6666666666666666, '#3bbef1'],\n",
       "                                 [0.7222222222222222, '#24a6e1'],\n",
       "                                 [0.7777777777777778, '#0d8ed1'],\n",
       "                                 [0.8333333333333334, '#0077bd'],\n",
       "                                 [0.8888888888888888, '#0061a4'],\n",
       "                                 [0.9444444444444444, '#004c8c'], [1.0, '#003875']],\n",
       "                   'sequential': [[0.0, '#afe7f9'], [0.125, '#5bd6fe'], [0.25,\n",
       "                                  '#3bbef1'], [0.375, '#24a6e1'], [0.5, '#0d8ed1'],\n",
       "                                  [0.625, '#0077bd'], [0.75, '#0061a4'], [0.875,\n",
       "                                  '#004c8c'], [1.0, '#003875']],\n",
       "                   'sequentialminus': [[0.0, '#7e000c'], [0.125, '#9d1021'],\n",
       "                                       [0.25, '#bc1f37'], [0.375, '#db2f4c'], [0.5,\n",
       "                                       '#ea536b'], [0.625, '#f67486'], [0.75,\n",
       "                                       '#fe94a0'], [0.875, '#fbb6be'], [1.0,\n",
       "                                       '#f8d6da']]},\n",
       "    'colorway': [#00b4ff, #ff9222, #3949ab, #ff5267, #08bdba, #fdc935, #689f38,\n",
       "                 #976fd1, #f781bf, #52733e],\n",
       "    'font': {'color': 'rgba(255, 255, 255, 0.8784313725)', 'family': 'Inter, sans-serif, Arial', 'size': 14},\n",
       "    'geo': {'bgcolor': '#141721', 'lakecolor': '#141721', 'landcolor': '#141721'},\n",
       "    'legend': {'bgcolor': 'rgba(0, 0, 0, 0)',\n",
       "               'font': {'color': 'rgba(255, 255, 255, 0.8784313725)', 'size': 14},\n",
       "               'orientation': 'h',\n",
       "               'title': {'font': {'color': 'rgba(255, 255, 255, 0.8784313725)', 'size': 14}},\n",
       "               'y': -0.2},\n",
       "    'map': {'style': 'carto-darkmatter'},\n",
       "    'margin': {'autoexpand': True, 'b': 64, 'l': 80, 'pad': 0, 'r': 24, 't': 64},\n",
       "    'modebar': {'activecolor': 'darkgrey', 'bgcolor': 'rgba(0, 0, 0, 0)', 'color': 'dimgrey'},\n",
       "    'paper_bgcolor': '#141721',\n",
       "    'plot_bgcolor': '#141721',\n",
       "    'polar': {'angularaxis': {'gridcolor': 'rgba(255, 255, 255, 0.1019607843)',\n",
       "                              'linecolor': 'rgba(255, 255, 255, 0.3019607843)'},\n",
       "              'bgcolor': '#141721',\n",
       "              'radialaxis': {'gridcolor': 'rgba(255, 255, 255, 0.1019607843)',\n",
       "                             'linecolor': 'rgba(255, 255, 255, 0.3019607843)'}},\n",
       "    'showlegend': True,\n",
       "    'ternary': {'aaxis': {'gridcolor': 'rgba(255, 255, 255, 0.1019607843)',\n",
       "                          'linecolor': 'rgba(255, 255, 255, 0.3019607843)'},\n",
       "                'baxis': {'gridcolor': 'rgba(255, 255, 255, 0.1019607843)',\n",
       "                          'linecolor': 'rgba(255, 255, 255, 0.3019607843)'},\n",
       "                'bgcolor': '#141721',\n",
       "                'caxis': {'gridcolor': 'rgba(255, 255, 255, 0.1019607843)',\n",
       "                          'linecolor': 'rgba(255, 255, 255, 0.3019607843)'}},\n",
       "    'title': {'font': {'color': 'rgba(255, 255, 255, 0.8784313725)', 'size': 20},\n",
       "              'pad': {'b': 0, 'l': 24, 'r': 24, 't': 24},\n",
       "              'x': 0,\n",
       "              'xanchor': 'left',\n",
       "              'xref': 'container',\n",
       "              'y': 1,\n",
       "              'yanchor': 'top',\n",
       "              'yref': 'container'},\n",
       "    'uniformtext': {'minsize': 12, 'mode': 'hide'},\n",
       "    'xaxis': {'automargin': True,\n",
       "              'gridcolor': 'rgba(255, 255, 255, 0.1019607843)',\n",
       "              'layer': 'below traces',\n",
       "              'linecolor': 'rgba(255, 255, 255, 0.3019607843)',\n",
       "              'linewidth': 1,\n",
       "              'showline': True,\n",
       "              'showticklabels': True,\n",
       "              'tickcolor': 'rgba(255, 255, 255, 0.3019607843)',\n",
       "              'tickfont': {'color': 'rgba(255, 255, 255, 0.6)', 'size': 14},\n",
       "              'ticklabelposition': 'outside',\n",
       "              'ticklen': 8,\n",
       "              'ticks': 'outside',\n",
       "              'tickwidth': 1,\n",
       "              'title': {'font': {'color': 'rgba(255, 255, 255, 0.8784313725)', 'size': 16}, 'standoff': 8},\n",
       "              'visible': True,\n",
       "              'zeroline': False},\n",
       "    'yaxis': {'automargin': True,\n",
       "              'gridcolor': 'rgba(255, 255, 255, 0.1019607843)',\n",
       "              'layer': 'below traces',\n",
       "              'linecolor': 'rgba(255, 255, 255, 0.3019607843)',\n",
       "              'linewidth': 1,\n",
       "              'showline': False,\n",
       "              'showticklabels': True,\n",
       "              'tickcolor': 'rgba(255, 255, 255, 0.3019607843)',\n",
       "              'tickfont': {'color': 'rgba(255, 255, 255, 0.6)', 'size': 14},\n",
       "              'ticklabelposition': 'outside',\n",
       "              'ticklen': 8,\n",
       "              'ticks': 'outside',\n",
       "              'tickwidth': 1,\n",
       "              'title': {'font': {'color': 'rgba(255, 255, 255, 0.8784313725)', 'size': 16}, 'standoff': 8},\n",
       "              'visible': True,\n",
       "              'zeroline': False}\n",
       "})"
      ]
     },
     "execution_count": 6,
     "metadata": {},
     "output_type": "execute_result"
    }
   ],
   "source": [
    "import plotly.io as pio\n",
    "from dash_bootstrap_templates import load_figure_template\n",
    "\n",
    "template_name = \"vizro_dark\"  # or any other template name\n",
    "\n",
    "load_figure_template(template_name)\n",
    "\n",
    "# list(pio.templates[template_name][\"layout\"][\"colorway\"])\n",
    "pio.templates[template_name][\"layout\"]"
   ]
  },
  {
   "cell_type": "code",
   "execution_count": null,
   "metadata": {},
   "outputs": [],
   "source": [
    "import json\n",
    "print(json.dumps(pio.templates[\"darkly\"], indent=2))"
   ]
  },
  {
   "cell_type": "code",
   "execution_count": null,
   "metadata": {},
   "outputs": [],
   "source": [
    "import sympy as sp\n",
    "from IPython.display import display, Math\n",
    "\n",
    "# Define the polynomial: 3x^3 + 2x^2 + x + 5\n",
    "p = np.polynomial.Polynomial([5, 1, 2, 3])  # Coefficients in increasing order\n",
    "\n",
    "# Compute the derivative\n",
    "dp = p.deriv()\n",
    "\n",
    "# Convert to SymPy for LaTeX formatting\n",
    "x = sp.Symbol('x')\n",
    "p_sympy = sum(coef * x**i for i, coef in enumerate(p.coef))\n",
    "dp_sympy = sum(coef * x**i for i, coef in enumerate(dp.coef))\n",
    "\n",
    "# Display in LaTeX\n",
    "display(Math(r\"f(x) = \" + sp.latex(p_sympy)))\n",
    "display(Math(r\"f'(x) = \" + sp.latex(dp_sympy)))"
   ]
  },
  {
   "cell_type": "code",
   "execution_count": null,
   "metadata": {},
   "outputs": [],
   "source": [
    "fr\"f(x) = \" + fr\"f(t) = \" "
   ]
  },
  {
   "cell_type": "code",
   "execution_count": null,
   "metadata": {},
   "outputs": [],
   "source": []
  },
  {
   "cell_type": "code",
   "execution_count": null,
   "metadata": {},
   "outputs": [],
   "source": [
    "import plotly.graph_objs as go\n",
    "import numpy as np\n",
    "x_values = np.linspace(-10, 10, 400)\n",
    "\n",
    "class MyPolynomial:\n",
    "    def __init__(self, coefficients):\n",
    "        self.coefficients = coefficients\n",
    "        self.poly = np.polynomial.Polynomial(coefficients)  # Create a NumPy polynomial object\n",
    "\n",
    "    def evaluate(self, x):\n",
    "        return self.poly(x)    \n",
    "    \n",
    "    def derivative(self, order=1):\n",
    "        return self.poly.deriv(m=order)\n",
    "    \n",
    "    def plot(self):\n",
    "        y_values = self.evaluate(x_values)\n",
    "\n",
    "        fig = go.Figure()\n",
    "\n",
    "        # Plot the polynomial\n",
    "        fig.add_trace(go.Scatter(x=x_values, y=y_values, mode='lines'))\n",
    "        \n",
    "        return fig\n"
   ]
  },
  {
   "cell_type": "code",
   "execution_count": null,
   "metadata": {},
   "outputs": [],
   "source": [
    "type(\"f\")==bool"
   ]
  },
  {
   "cell_type": "code",
   "execution_count": null,
   "metadata": {},
   "outputs": [],
   "source": [
    "y = MyPolynomial([0,0,0,1])\n",
    "d1y = y.derivative(order=1)\n",
    "d2y = y.derivative(order=2)\n",
    "        \n"
   ]
  },
  {
   "cell_type": "code",
   "execution_count": null,
   "metadata": {},
   "outputs": [],
   "source": [
    "y_values = y.evaluate(x_values)\n",
    "d1y_values = MyPolynomial(d1y.coef).evaluate(x_values)\n",
    "d2y_values = MyPolynomial(d2y.coef).evaluate(x_values)"
   ]
  },
  {
   "cell_type": "code",
   "execution_count": null,
   "metadata": {},
   "outputs": [],
   "source": [
    "d2y_values"
   ]
  },
  {
   "cell_type": "code",
   "execution_count": null,
   "metadata": {},
   "outputs": [],
   "source": [
    "import plotly.graph_objs as go\n",
    "import numpy as np\n",
    "from sympy import symbols, latex, expand\n",
    "import plotly.io as pio\n",
    "from defaults import POLYNOMIALS\n",
    "\n",
    "x_values = np.linspace(-10, 10, 400)\n",
    "\n",
    "class PolynomialGraph:\n",
    "    def __init__(self, coefficients):\n",
    "        self.graph = go.Figure()\n",
    "        self.coefficients = coefficients\n",
    "        self.polynomial_y = None\n",
    "        self.polynomial_dy = None\n",
    "        self.polynomial_d2y = None\n",
    "   \n",
    "        \n",
    "    def set_polynomial_y(self):\n",
    "        self.polynomial_y = np.polynomial.Polynomial(self.coefficients)\n",
    "        return self\n",
    "    \n",
    "    def set_polynomial_dy(self):\n",
    "        self.polynomial_dy = self.polynomial_y.deriv(m=1)\n",
    "        return self\n",
    "    \n",
    "    def set_polynomial_d2y(self):\n",
    "        self.polynomial_d2y = self.polynomial_y.deriv(m=2)\n",
    "        return self\n",
    "    \n",
    "    def update_polynomials(self, coefficients):\n",
    "        self.polynomial_y.coef = coefficients\n",
    "        self.set_polynomial_dy()\n",
    "        self.set_polynomial_d2y()\n",
    "        return self\n",
    "    \n",
    "    def evaluate_polynomials(self):\n",
    "        return self.polynomial_y(x_values), self.polynomial_dy(x_values), self.polynomial_d2y(x_values)"
   ]
  },
  {
   "cell_type": "code",
   "execution_count": null,
   "metadata": {},
   "outputs": [],
   "source": [
    "me = PolynomialGraph(POLYNOMIALS['cubic']['default_coefficients'])\n",
    "me.set_polynomial_y()\n",
    "me.set_polynomial_dy()\n",
    "me.set_polynomial_d2y()\n",
    "print(me.polynomial_y, me.polynomial_dy, me.polynomial_d2y)"
   ]
  },
  {
   "cell_type": "code",
   "execution_count": null,
   "metadata": {},
   "outputs": [],
   "source": [
    "me.update_polynomials((0,0,1,0))\n",
    "print(me.polynomial_y, me.polynomial_dy, me.polynomial_d2y)"
   ]
  },
  {
   "cell_type": "code",
   "execution_count": null,
   "metadata": {},
   "outputs": [],
   "source": [
    "me.update_polynomials((0,3,4,5))\n",
    "print(me.polynomial_y, me.polynomial_dy, me.polynomial_d2y)"
   ]
  },
  {
   "cell_type": "code",
   "execution_count": null,
   "metadata": {},
   "outputs": [],
   "source": [
    "me.evaluate_polynomials()"
   ]
  },
  {
   "cell_type": "markdown",
   "metadata": {},
   "source": []
  }
 ],
 "metadata": {
  "kernelspec": {
   "display_name": "venv_3128_polydash",
   "language": "python",
   "name": "python3"
  },
  "language_info": {
   "codemirror_mode": {
    "name": "ipython",
    "version": 3
   },
   "file_extension": ".py",
   "mimetype": "text/x-python",
   "name": "python",
   "nbconvert_exporter": "python",
   "pygments_lexer": "ipython3",
   "version": "3.12.8"
  }
 },
 "nbformat": 4,
 "nbformat_minor": 2
}
