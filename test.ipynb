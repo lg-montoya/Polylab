{
 "cells": [
  {
   "cell_type": "code",
   "execution_count": 3,
   "metadata": {},
   "outputs": [
    {
     "ename": "TypeError",
     "evalue": "must be real number, not list",
     "output_type": "error",
     "traceback": [
      "\u001b[0;31m---------------------------------------------------------------------------\u001b[0m",
      "\u001b[0;31mTypeError\u001b[0m                                 Traceback (most recent call last)",
      "Cell \u001b[0;32mIn[3], line 5\u001b[0m\n\u001b[1;32m      1\u001b[0m \u001b[38;5;28;01mimport\u001b[39;00m\u001b[38;5;250m \u001b[39m\u001b[38;5;21;01mnumpy\u001b[39;00m\u001b[38;5;250m \u001b[39m\u001b[38;5;28;01mas\u001b[39;00m\u001b[38;5;250m \u001b[39m\u001b[38;5;21;01mnp\u001b[39;00m\n\u001b[1;32m      3\u001b[0m x \u001b[38;5;241m=\u001b[39m \u001b[38;5;241m1.466666666666\u001b[39m\n\u001b[0;32m----> 5\u001b[0m \u001b[38;5;28mprint\u001b[39m(\u001b[43mnp\u001b[49m\u001b[38;5;241;43m.\u001b[39;49m\u001b[43mformat_float_positional\u001b[49m\u001b[43m(\u001b[49m\u001b[43m[\u001b[49m\u001b[43mx\u001b[49m\u001b[43m \u001b[49m\u001b[43m,\u001b[49m\u001b[43m \u001b[49m\u001b[43mx\u001b[49m\u001b[43m]\u001b[49m\u001b[43m,\u001b[49m\u001b[43m \u001b[49m\u001b[43mprecision\u001b[49m\u001b[38;5;241;43m=\u001b[39;49m\u001b[38;5;241;43m2\u001b[39;49m\u001b[43m)\u001b[49m)\n",
      "File \u001b[0;32m~/.pyenv/versions/venv_3128_polydash/lib/python3.12/site-packages/numpy/_core/arrayprint.py:1276\u001b[0m, in \u001b[0;36mformat_float_positional\u001b[0;34m(x, precision, unique, fractional, trim, sign, pad_left, pad_right, min_digits)\u001b[0m\n\u001b[1;32m   1274\u001b[0m \u001b[38;5;28;01mif\u001b[39;00m min_digits \u001b[38;5;241m>\u001b[39m \u001b[38;5;241m0\u001b[39m \u001b[38;5;129;01mand\u001b[39;00m precision \u001b[38;5;241m>\u001b[39m \u001b[38;5;241m0\u001b[39m \u001b[38;5;129;01mand\u001b[39;00m min_digits \u001b[38;5;241m>\u001b[39m precision:\n\u001b[1;32m   1275\u001b[0m     \u001b[38;5;28;01mraise\u001b[39;00m \u001b[38;5;167;01mValueError\u001b[39;00m(\u001b[38;5;124m\"\u001b[39m\u001b[38;5;124mmin_digits must be less than or equal to precision\u001b[39m\u001b[38;5;124m\"\u001b[39m)\n\u001b[0;32m-> 1276\u001b[0m \u001b[38;5;28;01mreturn\u001b[39;00m \u001b[43mdragon4_positional\u001b[49m\u001b[43m(\u001b[49m\u001b[43mx\u001b[49m\u001b[43m,\u001b[49m\u001b[43m \u001b[49m\u001b[43mprecision\u001b[49m\u001b[38;5;241;43m=\u001b[39;49m\u001b[43mprecision\u001b[49m\u001b[43m,\u001b[49m\u001b[43m \u001b[49m\u001b[43munique\u001b[49m\u001b[38;5;241;43m=\u001b[39;49m\u001b[43munique\u001b[49m\u001b[43m,\u001b[49m\n\u001b[1;32m   1277\u001b[0m \u001b[43m                          \u001b[49m\u001b[43mfractional\u001b[49m\u001b[38;5;241;43m=\u001b[39;49m\u001b[43mfractional\u001b[49m\u001b[43m,\u001b[49m\u001b[43m \u001b[49m\u001b[43mtrim\u001b[49m\u001b[38;5;241;43m=\u001b[39;49m\u001b[43mtrim\u001b[49m\u001b[43m,\u001b[49m\n\u001b[1;32m   1278\u001b[0m \u001b[43m                          \u001b[49m\u001b[43msign\u001b[49m\u001b[38;5;241;43m=\u001b[39;49m\u001b[43msign\u001b[49m\u001b[43m,\u001b[49m\u001b[43m \u001b[49m\u001b[43mpad_left\u001b[49m\u001b[38;5;241;43m=\u001b[39;49m\u001b[43mpad_left\u001b[49m\u001b[43m,\u001b[49m\n\u001b[1;32m   1279\u001b[0m \u001b[43m                          \u001b[49m\u001b[43mpad_right\u001b[49m\u001b[38;5;241;43m=\u001b[39;49m\u001b[43mpad_right\u001b[49m\u001b[43m,\u001b[49m\u001b[43m \u001b[49m\u001b[43mmin_digits\u001b[49m\u001b[38;5;241;43m=\u001b[39;49m\u001b[43mmin_digits\u001b[49m\u001b[43m)\u001b[49m\n",
      "\u001b[0;31mTypeError\u001b[0m: must be real number, not list"
     ]
    }
   ],
   "source": [
    "import numpy as np\n",
    "\n",
    "x = 1.466666666666\n",
    "\n",
    "print(np.format_float_positional([x , x], precision=2))"
   ]
  },
  {
   "cell_type": "code",
   "execution_count": null,
   "metadata": {},
   "outputs": [],
   "source": [
    "import dash_bootstrap_components as dbc\n",
    "# Generate a dictionary mapping icon names to their class names\n",
    "fa_icons_dict = {icon: f\"fa-{icon}\" for icon in dbc.icons.FONT_AWESOME}\n",
    "\n",
    "# Print a sample\n",
    "print({k: fa_icons_dict[k] for k in list(fa_icons_dict)[:10]})  # Print first 10 entries"
   ]
  },
  {
   "cell_type": "code",
   "execution_count": null,
   "metadata": {},
   "outputs": [],
   "source": [
    "import numpy as np\n",
    "\n",
    "POLYNOMIALS = {\n",
    "    'constant':{'default_coefficients':(1,0,0,0), 'general_form':'f(x) = a'},\n",
    "    'linear':{'default_coefficients':(0,1,0,0), 'general_form':'f(x) = ax + b'},\n",
    "    'quadratic':{'default_coefficients':(0,0,1,0), 'general_form':'f(x) = ax^2 + bx + c'},\n",
    "    'cubic':{'default_coefficients':(0,0,0,1), 'general_form':'f(x) = ax^3 + bx^2 + cx + d'},\n",
    "    }"
   ]
  },
  {
   "cell_type": "code",
   "execution_count": null,
   "metadata": {},
   "outputs": [],
   "source": [
    "coefficients = POLYNOMIALS['cubic']['default_coefficients']\n",
    "poly = np.polynomial.Polynomial((0,0, -0.3))"
   ]
  },
  {
   "cell_type": "code",
   "execution_count": null,
   "metadata": {},
   "outputs": [],
   "source": [
    "a=poly.deriv(1)"
   ]
  },
  {
   "cell_type": "code",
   "execution_count": null,
   "metadata": {},
   "outputs": [
    {
     "name": "stdout",
     "output_type": "stream",
     "text": [
      "{0: '#e72e84', 1: '#f77f14', 2: '#52e8b5', 3: '#ffef47', 4: '#21a4d3'}\n",
      "{0: '#6829ad', 1: '#e14b56', 2: '#19f37f', 3: '#f7c200', 4: '#51a0f6'}\n"
     ]
    }
   ],
   "source": [
    "import plotly.io as pio\n",
    "from dash_bootstrap_templates import load_figure_template\n",
    "\n",
    "chart_default_theme = \"quartz_dark\"\n",
    "chart_other_theme = \"vapor\"\n",
    "\n",
    "\n",
    "load_figure_template([chart_default_theme, chart_other_theme])\n",
    "chart_other_theme_colours = list(pio.templates[chart_other_theme][\"layout\"][\"colorway\"])\n",
    "chart_default_theme_colours = list(pio.templates[chart_default_theme][\"layout\"][\"colorway\"])\n",
    "\n",
    "trace_colours = {\n",
    "    'default_theme':{i:j for i,j in enumerate(chart_default_theme_colours)},\n",
    "    'other_theme': {i:j for i,j in enumerate(chart_other_theme_colours)}\n",
    "}\n",
    "\n",
    "print(trace_colours[\"default_theme\"])\n",
    "print(trace_colours[\"other_theme\"])\n"
   ]
  },
  {
   "cell_type": "code",
   "execution_count": null,
   "metadata": {},
   "outputs": [
    {
     "data": {
      "text/plain": [
       "{0: '#e72e84', 1: '#f77f14', 2: '#52e8b5', 3: '#ffef47', 4: '#21a4d3'}"
      ]
     },
     "execution_count": 18,
     "metadata": {},
     "output_type": "execute_result"
    }
   ],
   "source": []
  },
  {
   "cell_type": "code",
   "execution_count": null,
   "metadata": {},
   "outputs": [],
   "source": [
    "import json\n",
    "print(json.dumps(pio.templates[\"darkly\"], indent=2))"
   ]
  },
  {
   "cell_type": "code",
   "execution_count": null,
   "metadata": {},
   "outputs": [],
   "source": [
    "import sympy as sp\n",
    "from IPython.display import display, Math\n",
    "\n",
    "# Define the polynomial: 3x^3 + 2x^2 + x + 5\n",
    "p = np.polynomial.Polynomial([5, 1, 2, 3])  # Coefficients in increasing order\n",
    "\n",
    "# Compute the derivative\n",
    "dp = p.deriv()\n",
    "\n",
    "# Convert to SymPy for LaTeX formatting\n",
    "x = sp.Symbol('x')\n",
    "p_sympy = sum(coef * x**i for i, coef in enumerate(p.coef))\n",
    "dp_sympy = sum(coef * x**i for i, coef in enumerate(dp.coef))\n",
    "\n",
    "# Display in LaTeX\n",
    "display(Math(r\"f(x) = \" + sp.latex(p_sympy)))\n",
    "display(Math(r\"f'(x) = \" + sp.latex(dp_sympy)))"
   ]
  },
  {
   "cell_type": "code",
   "execution_count": null,
   "metadata": {},
   "outputs": [],
   "source": [
    "fr\"f(x) = \" + fr\"f(t) = \" "
   ]
  },
  {
   "cell_type": "code",
   "execution_count": null,
   "metadata": {},
   "outputs": [],
   "source": [
    "import plotly.graph_objs as go\n",
    "import numpy as np\n",
    "x_values = np.linspace(-10, 10, 400)\n",
    "\n",
    "class MyPolynomial:\n",
    "    def __init__(self, coefficients):\n",
    "        self.coefficients = coefficients\n",
    "        self.poly = np.polynomial.Polynomial(coefficients)  # Create a NumPy polynomial object\n",
    "\n",
    "    def evaluate(self, x):\n",
    "        return self.poly(x)    \n",
    "    \n",
    "    def derivative(self, order=1):\n",
    "        return self.poly.deriv(m=order)\n",
    "    \n",
    "    def plot(self):\n",
    "        y_values = self.evaluate(x_values)\n",
    "\n",
    "        fig = go.Figure()\n",
    "\n",
    "        # Plot the polynomial\n",
    "        fig.add_trace(go.Scatter(x=x_values, y=y_values, mode='lines'))\n",
    "        \n",
    "        return fig\n"
   ]
  },
  {
   "cell_type": "code",
   "execution_count": null,
   "metadata": {},
   "outputs": [],
   "source": [
    "type(\"f\")==bool"
   ]
  },
  {
   "cell_type": "code",
   "execution_count": null,
   "metadata": {},
   "outputs": [],
   "source": [
    "y = MyPolynomial([0,0,0,1])\n",
    "d1y = y.derivative(order=1)\n",
    "d2y = y.derivative(order=2)\n",
    "        \n"
   ]
  },
  {
   "cell_type": "code",
   "execution_count": null,
   "metadata": {},
   "outputs": [],
   "source": [
    "y_values = y.evaluate(x_values)\n",
    "d1y_values = MyPolynomial(d1y.coef).evaluate(x_values)\n",
    "d2y_values = MyPolynomial(d2y.coef).evaluate(x_values)"
   ]
  },
  {
   "cell_type": "code",
   "execution_count": null,
   "metadata": {},
   "outputs": [],
   "source": [
    "d2y_values"
   ]
  },
  {
   "cell_type": "code",
   "execution_count": null,
   "metadata": {},
   "outputs": [],
   "source": [
    "import plotly.graph_objs as go\n",
    "import numpy as np\n",
    "from sympy import symbols, latex, expand\n",
    "import plotly.io as pio\n",
    "from defaultss.mathematics import POLYNOMIALS\n",
    "\n",
    "x_values = np.linspace(-10, 10, 400)\n",
    "\n",
    "class PolynomialGraph:\n",
    "    def __init__(self, coefficients):\n",
    "        self.graph = go.Figure()\n",
    "        self.coefficients = coefficients\n",
    "        self.polynomial_y = None\n",
    "        self.polynomial_dy = None\n",
    "        self.polynomial_d2y = None\n",
    "   \n",
    "        \n",
    "    def set_polynomial_y(self):\n",
    "        self.polynomial_y = np.polynomial.Polynomial(self.coefficients)\n",
    "        return self\n",
    "    \n",
    "    def set_polynomial_dy(self):\n",
    "        self.polynomial_dy = self.polynomial_y.deriv(m=1)\n",
    "        return self\n",
    "    \n",
    "    def set_polynomial_d2y(self):\n",
    "        self.polynomial_d2y = self.polynomial_y.deriv(m=2)\n",
    "        return self\n",
    "    \n",
    "    def update_polynomials(self, coefficients):\n",
    "        self.polynomial_y.coef = coefficients\n",
    "        self.set_polynomial_dy()\n",
    "        self.set_polynomial_d2y()\n",
    "        return self\n",
    "    \n",
    "    def evaluate_polynomials(self):\n",
    "        return self.polynomial_y(x_values), self.polynomial_dy(x_values), self.polynomial_d2y(x_values)"
   ]
  },
  {
   "cell_type": "code",
   "execution_count": null,
   "metadata": {},
   "outputs": [],
   "source": [
    "me = PolynomialGraph(POLYNOMIALS['cubic']['default_coefficients'])\n",
    "me.set_polynomial_y()\n",
    "me.set_polynomial_dy()\n",
    "me.set_polynomial_d2y()\n",
    "print(me.polynomial_y, me.polynomial_dy, me.polynomial_d2y)"
   ]
  },
  {
   "cell_type": "code",
   "execution_count": null,
   "metadata": {},
   "outputs": [],
   "source": [
    "me.update_polynomials((0,0,1,0))\n",
    "print(me.polynomial_y, me.polynomial_dy, me.polynomial_d2y)"
   ]
  },
  {
   "cell_type": "code",
   "execution_count": null,
   "metadata": {},
   "outputs": [],
   "source": [
    "me.update_polynomials((0,3,4,5))\n",
    "print(me.polynomial_y, me.polynomial_dy, me.polynomial_d2y)"
   ]
  },
  {
   "cell_type": "code",
   "execution_count": null,
   "metadata": {},
   "outputs": [],
   "source": [
    "me.evaluate_polynomials()"
   ]
  },
  {
   "cell_type": "markdown",
   "metadata": {},
   "source": []
  }
 ],
 "metadata": {
  "kernelspec": {
   "display_name": "venv_3128_polydash",
   "language": "python",
   "name": "python3"
  },
  "language_info": {
   "codemirror_mode": {
    "name": "ipython",
    "version": 3
   },
   "file_extension": ".py",
   "mimetype": "text/x-python",
   "name": "python",
   "nbconvert_exporter": "python",
   "pygments_lexer": "ipython3",
   "version": "3.12.8"
  }
 },
 "nbformat": 4,
 "nbformat_minor": 2
}
