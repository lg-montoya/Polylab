{
 "cells": [
  {
   "cell_type": "code",
   "execution_count": 2,
   "metadata": {},
   "outputs": [],
   "source": [
    "import numpy as np\n",
    "\n",
    "POLYNOMIALS = {\n",
    "    'constant':{'default_coefficients':(1,0,0,0), 'general_form':'f(x) = a'},\n",
    "    'linear':{'default_coefficients':(0,1,0,0), 'general_form':'f(x) = ax + b'},\n",
    "    'quadratic':{'default_coefficients':(0,0,1,0), 'general_form':'f(x) = ax^2 + bx + c'},\n",
    "    'cubic':{'default_coefficients':(0,0,0,1), 'general_form':'f(x) = ax^3 + bx^2 + cx + d'},\n",
    "    }"
   ]
  },
  {
   "cell_type": "code",
   "execution_count": 3,
   "metadata": {},
   "outputs": [],
   "source": [
    "coefficients = POLYNOMIALS['cubic']['default_coefficients']\n",
    "poly = np.polynomial.Polynomial((0,0, -0.3))"
   ]
  },
  {
   "cell_type": "code",
   "execution_count": null,
   "metadata": {},
   "outputs": [
    {
     "data": {
      "text/plain": [
       "[0.0, -0.6]"
      ]
     },
     "execution_count": 4,
     "metadata": {},
     "output_type": "execute_result"
    }
   ],
   "source": [
    "a=poly.deriv(1)\n"
   ]
  },
  {
   "cell_type": "code",
   "execution_count": 5,
   "metadata": {},
   "outputs": [
    {
     "data": {
      "text/latex": [
       "$\\displaystyle f(x) = 3.0 x^{3} + 2.0 x^{2} + 1.0 x + 5.0$"
      ],
      "text/plain": [
       "<IPython.core.display.Math object>"
      ]
     },
     "metadata": {},
     "output_type": "display_data"
    },
    {
     "data": {
      "text/latex": [
       "$\\displaystyle f'(x) = 9.0 x^{2} + 4.0 x + 1.0$"
      ],
      "text/plain": [
       "<IPython.core.display.Math object>"
      ]
     },
     "metadata": {},
     "output_type": "display_data"
    }
   ],
   "source": [
    "import numpy as np\n",
    "import sympy as sp\n",
    "from IPython.display import display, Math\n",
    "\n",
    "# Define the polynomial: 3x^3 + 2x^2 + x + 5\n",
    "p = np.polynomial.Polynomial([5, 1, 2, 3])  # Coefficients in increasing order\n",
    "\n",
    "# Compute the derivative\n",
    "dp = p.deriv()\n",
    "\n",
    "# Convert to SymPy for LaTeX formatting\n",
    "x = sp.Symbol('x')\n",
    "p_sympy = sum(coef * x**i for i, coef in enumerate(p.coef))\n",
    "dp_sympy = sum(coef * x**i for i, coef in enumerate(dp.coef))\n",
    "\n",
    "# Display in LaTeX\n",
    "display(Math(r\"f(x) = \" + sp.latex(p_sympy)))\n",
    "display(Math(r\"f'(x) = \" + sp.latex(dp_sympy)))"
   ]
  },
  {
   "cell_type": "code",
   "execution_count": 8,
   "metadata": {},
   "outputs": [
    {
     "data": {
      "text/plain": [
       "'f(x) = f(t) = '"
      ]
     },
     "execution_count": 8,
     "metadata": {},
     "output_type": "execute_result"
    }
   ],
   "source": [
    "fr\"f(x) = \" + fr\"f(t) = \" "
   ]
  },
  {
   "cell_type": "code",
   "execution_count": 9,
   "metadata": {},
   "outputs": [],
   "source": [
    "a = \"ok\"\n",
    "a+=\"her\""
   ]
  },
  {
   "cell_type": "code",
   "execution_count": 10,
   "metadata": {},
   "outputs": [
    {
     "data": {
      "text/plain": [
       "'okher'"
      ]
     },
     "execution_count": 10,
     "metadata": {},
     "output_type": "execute_result"
    }
   ],
   "source": [
    "a"
   ]
  },
  {
   "cell_type": "code",
   "execution_count": null,
   "metadata": {},
   "outputs": [],
   "source": []
  }
 ],
 "metadata": {
  "kernelspec": {
   "display_name": "venv_3128_polydash",
   "language": "python",
   "name": "python3"
  },
  "language_info": {
   "codemirror_mode": {
    "name": "ipython",
    "version": 3
   },
   "file_extension": ".py",
   "mimetype": "text/x-python",
   "name": "python",
   "nbconvert_exporter": "python",
   "pygments_lexer": "ipython3",
   "version": "3.12.8"
  }
 },
 "nbformat": 4,
 "nbformat_minor": 2
}
